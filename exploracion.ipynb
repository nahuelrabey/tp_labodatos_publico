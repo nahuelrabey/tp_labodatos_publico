{
 "cells": [
  {
   "cell_type": "code",
   "execution_count": 34,
   "metadata": {},
   "outputs": [],
   "source": [
    "import seaborn as sb\n",
    "import pandas as pd"
   ]
  },
  {
   "cell_type": "code",
   "execution_count": 35,
   "metadata": {},
   "outputs": [],
   "source": [
    "equipos = pd.read_csv(\"./enunciado_tablas/enunciado_equipos.csv\")\n",
    "jugadores_atributos = pd.read_csv(\"./enunciado_tablas/enunciado_jugadores_atributos.csv\")\n",
    "jugadores = pd.read_csv(\"./enunciado_tablas/enunciado_jugadores.csv\")\n",
    "liga = pd.read_csv(\"./enunciado_tablas/enunciado_liga.csv\")\n",
    "paises = pd.read_csv(\"./enunciado_tablas/enunciado_paises.csv\")\n",
    "partidos = pd.read_csv(\"./enunciado_tablas/enunciado_partidos.csv\")"
   ]
  },
  {
   "cell_type": "code",
   "execution_count": 36,
   "metadata": {},
   "outputs": [
    {
     "name": "stdout",
     "output_type": "stream",
     "text": [
      "<class 'pandas.core.frame.DataFrame'>\n",
      "RangeIndex: 25979 entries, 0 to 25978\n",
      "Data columns (total 40 columns):\n",
      " #   Column            Non-Null Count  Dtype  \n",
      "---  ------            --------------  -----  \n",
      " 0   country_id        25979 non-null  int64  \n",
      " 1   league_id         25979 non-null  int64  \n",
      " 2   season            25979 non-null  object \n",
      " 3   stage             25979 non-null  int64  \n",
      " 4   date              25979 non-null  object \n",
      " 5   match_api_id      25979 non-null  int64  \n",
      " 6   home_team_api_id  25979 non-null  int64  \n",
      " 7   away_team_api_id  25979 non-null  int64  \n",
      " 8   home_team_goal    25979 non-null  int64  \n",
      " 9   away_team_goal    25979 non-null  int64  \n",
      " 10  home_player_1     24755 non-null  float64\n",
      " 11  home_player_2     24664 non-null  float64\n",
      " 12  home_player_3     24698 non-null  float64\n",
      " 13  home_player_4     24656 non-null  float64\n",
      " 14  home_player_5     24663 non-null  float64\n",
      " 15  home_player_6     24654 non-null  float64\n",
      " 16  home_player_7     24752 non-null  float64\n",
      " 17  home_player_8     24670 non-null  float64\n",
      " 18  home_player_9     24706 non-null  float64\n",
      " 19  home_player_10    24543 non-null  float64\n",
      " 20  home_player_11    24424 non-null  float64\n",
      " 21  away_player_1     24745 non-null  float64\n",
      " 22  away_player_2     24701 non-null  float64\n",
      " 23  away_player_3     24686 non-null  float64\n",
      " 24  away_player_4     24658 non-null  float64\n",
      " 25  away_player_5     24644 non-null  float64\n",
      " 26  away_player_6     24666 non-null  float64\n",
      " 27  away_player_7     24744 non-null  float64\n",
      " 28  away_player_8     24638 non-null  float64\n",
      " 29  away_player_9     24651 non-null  float64\n",
      " 30  away_player_10    24538 non-null  float64\n",
      " 31  away_player_11    24425 non-null  float64\n",
      " 32  goal              14217 non-null  object \n",
      " 33  shoton            14217 non-null  object \n",
      " 34  shotoff           14217 non-null  object \n",
      " 35  foulcommit        14217 non-null  object \n",
      " 36  card              14217 non-null  object \n",
      " 37  cross             14217 non-null  object \n",
      " 38  corner            14217 non-null  object \n",
      " 39  possession        14217 non-null  object \n",
      "dtypes: float64(22), int64(8), object(10)\n",
      "memory usage: 7.9+ MB\n"
     ]
    }
   ],
   "source": [
    "partidos.info()"
   ]
  },
  {
   "cell_type": "markdown",
   "metadata": {},
   "source": [
    "# Observación sobre los goles por jugador"
   ]
  },
  {
   "cell_type": "code",
   "execution_count": 37,
   "metadata": {},
   "outputs": [
    {
     "name": "stdout",
     "output_type": "stream",
     "text": [
      "<goal><value><comment>n</comment><stats><goals>1</goals><shoton>1</shoton></stats><event_incident_typefk>406</event_incident_typefk><elapsed>22</elapsed><player2>38807</player2><subtype>header</subtype><player1>37799</player1><sortorder>5</sortorder><team>10261</team><id>378998</id><n>295</n><type>goal</type><goal_type>n</goal_type></value><value><comment>n</comment><stats><goals>1</goals><shoton>1</shoton></stats><event_incident_typefk>393</event_incident_typefk><elapsed>24</elapsed><player2>24154</player2><subtype>shot</subtype><player1>24148</player1><sortorder>4</sortorder><team>10260</team><id>379019</id><n>298</n><type>goal</type><goal_type>n</goal_type></value></goal>\n"
     ]
    }
   ],
   "source": [
    "\n",
    "sinNan = partidos.dropna()\n",
    "print(sinNan.iloc[0][\"goal\"])"
   ]
  },
  {
   "cell_type": "markdown",
   "metadata": {},
   "source": [
    "La información se encuentra registrada en un xml. Hay que normalizar esta tabla, ¿De qué forma?"
   ]
  },
  {
   "cell_type": "code",
   "execution_count": null,
   "metadata": {},
   "outputs": [],
   "source": []
  },
  {
   "cell_type": "code",
   "execution_count": 38,
   "metadata": {},
   "outputs": [
    {
     "data": {
      "text/plain": [
       "country_id                                                       1729\n",
       "league_id                                                        1729\n",
       "season                                                      2008/2009\n",
       "stage                                                               1\n",
       "date                                              2008-08-17 00:00:00\n",
       "match_api_id                                                   489042\n",
       "home_team_api_id                                                10260\n",
       "away_team_api_id                                                10261\n",
       "home_team_goal                                                      1\n",
       "away_team_goal                                                      1\n",
       "home_player_1                                                 30726.0\n",
       "home_player_2                                                 30362.0\n",
       "home_player_3                                                 30620.0\n",
       "home_player_4                                                 30865.0\n",
       "home_player_5                                                 32569.0\n",
       "home_player_6                                                 24148.0\n",
       "home_player_7                                                 34944.0\n",
       "home_player_8                                                 30373.0\n",
       "home_player_9                                                 24154.0\n",
       "home_player_10                                                24157.0\n",
       "home_player_11                                                30829.0\n",
       "away_player_1                                                 24224.0\n",
       "away_player_2                                                 25518.0\n",
       "away_player_3                                                 24228.0\n",
       "away_player_4                                                 30929.0\n",
       "away_player_5                                                 29581.0\n",
       "away_player_6                                                 38807.0\n",
       "away_player_7                                                 40565.0\n",
       "away_player_8                                                 30360.0\n",
       "away_player_9                                                 33852.0\n",
       "away_player_10                                                34574.0\n",
       "away_player_11                                                37799.0\n",
       "goal                <goal><value><comment>n</comment><stats><goals...\n",
       "shoton              <shoton><value><stats><blocked>1</blocked></st...\n",
       "shotoff             <shotoff><value><stats><shotoff>1</shotoff></s...\n",
       "foulcommit          <foulcommit><value><stats><foulscommitted>1</f...\n",
       "card                <card><value><comment>y</comment><stats><ycard...\n",
       "cross               <cross><value><stats><crosses>1</crosses></sta...\n",
       "corner              <corner><value><stats><corners>1</corners></st...\n",
       "possession          <possession><value><comment>56</comment><event...\n",
       "Name: 1728, dtype: object"
      ]
     },
     "execution_count": 38,
     "metadata": {},
     "output_type": "execute_result"
    }
   ],
   "source": [
    "sinNan.iloc[0]"
   ]
  }
 ],
 "metadata": {
  "kernelspec": {
   "display_name": "env",
   "language": "python",
   "name": "python3"
  },
  "language_info": {
   "codemirror_mode": {
    "name": "ipython",
    "version": 3
   },
   "file_extension": ".py",
   "mimetype": "text/x-python",
   "name": "python",
   "nbconvert_exporter": "python",
   "pygments_lexer": "ipython3",
   "version": "3.12.0"
  }
 },
 "nbformat": 4,
 "nbformat_minor": 2
}
