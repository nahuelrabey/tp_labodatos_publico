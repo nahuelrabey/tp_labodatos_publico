{
 "cells": [
  {
   "cell_type": "code",
   "execution_count": 1,
   "metadata": {},
   "outputs": [],
   "source": [
    "import seaborn as sb\n",
    "import pandas as pd"
   ]
  },
  {
   "cell_type": "code",
   "execution_count": 2,
   "metadata": {},
   "outputs": [],
   "source": [
    "equipos = pd.read_csv(\"./enunciado_tablas/enunciado_equipos.csv\")\n",
    "jugadores_atributos = pd.read_csv(\"./enunciado_tablas/enunciado_jugadores_atributos.csv\")\n",
    "jugadores = pd.read_csv(\"./enunciado_tablas/enunciado_jugadores.csv\")\n",
    "liga = pd.read_csv(\"./enunciado_tablas/enunciado_liga.csv\")\n",
    "paises = pd.read_csv(\"./enunciado_tablas/enunciado_paises.csv\")\n",
    "partidos = pd.read_csv(\"./enunciado_tablas/enunciado_partidos.csv\")"
   ]
  },
  {
   "cell_type": "code",
   "execution_count": 19,
   "metadata": {},
   "outputs": [
    {
     "data": {
      "text/plain": [
       "144    39890.0\n",
       "145    38327.0\n",
       "146    95597.0\n",
       "148    30934.0\n",
       "149    37990.0\n",
       "Name: home_player_1, dtype: float64"
      ]
     },
     "execution_count": 19,
     "metadata": {},
     "output_type": "execute_result"
    }
   ],
   "source": [
    "notNan = partidos[pd.notna(partidos[\"home_player_1\"]) == True]\n",
    "notNan[\"home_player_1\"].head()"
   ]
  },
  {
   "cell_type": "markdown",
   "metadata": {},
   "source": [
    "# Sobre el Potencial\n",
    "'Potential' se refiere al potencial del jugador"
   ]
  },
  {
   "cell_type": "code",
   "execution_count": 8,
   "metadata": {},
   "outputs": [
    {
     "data": {
      "text/plain": [
       "0    71.0\n",
       "1    71.0\n",
       "2    66.0\n",
       "3    65.0\n",
       "4    65.0\n",
       "Name: potential, dtype: float64"
      ]
     },
     "execution_count": 8,
     "metadata": {},
     "output_type": "execute_result"
    }
   ],
   "source": [
    "jugadores_atributos[\"potential\"].head()"
   ]
  },
  {
   "cell_type": "markdown",
   "metadata": {},
   "source": [
    "'shot_power' se refiere a la potencia de tiro."
   ]
  },
  {
   "cell_type": "code",
   "execution_count": 10,
   "metadata": {},
   "outputs": [
    {
     "data": {
      "text/plain": [
       "0    55.0\n",
       "1    55.0\n",
       "2    55.0\n",
       "3    54.0\n",
       "4    54.0\n",
       "Name: shot_power, dtype: float64"
      ]
     },
     "execution_count": 10,
     "metadata": {},
     "output_type": "execute_result"
    }
   ],
   "source": [
    "jugadores_atributos[\"shot_power\"].head()"
   ]
  },
  {
   "cell_type": "markdown",
   "metadata": {},
   "source": [
    "# Observación sobre los goles por jugador"
   ]
  },
  {
   "cell_type": "code",
   "execution_count": 4,
   "metadata": {},
   "outputs": [
    {
     "name": "stdout",
     "output_type": "stream",
     "text": [
      "<goal><value><comment>n</comment><stats><goals>1</goals><shoton>1</shoton></stats><event_incident_typefk>406</event_incident_typefk><elapsed>22</elapsed><player2>38807</player2><subtype>header</subtype><player1>37799</player1><sortorder>5</sortorder><team>10261</team><id>378998</id><n>295</n><type>goal</type><goal_type>n</goal_type></value><value><comment>n</comment><stats><goals>1</goals><shoton>1</shoton></stats><event_incident_typefk>393</event_incident_typefk><elapsed>24</elapsed><player2>24154</player2><subtype>shot</subtype><player1>24148</player1><sortorder>4</sortorder><team>10260</team><id>379019</id><n>298</n><type>goal</type><goal_type>n</goal_type></value></goal>\n"
     ]
    }
   ],
   "source": [
    "\n",
    "sinNan = partidos.dropna()\n",
    "print(sinNan.iloc[0][\"goal\"])"
   ]
  },
  {
   "cell_type": "markdown",
   "metadata": {},
   "source": [
    "La información se encuentra registrada en un xml. Hay que normalizar esta tabla, ¿De qué forma?"
   ]
  },
  {
   "cell_type": "code",
   "execution_count": null,
   "metadata": {},
   "outputs": [],
   "source": []
  },
  {
   "cell_type": "code",
   "execution_count": 5,
   "metadata": {},
   "outputs": [
    {
     "data": {
      "text/plain": [
       "country_id                                                       1729\n",
       "league_id                                                        1729\n",
       "season                                                      2008/2009\n",
       "stage                                                               1\n",
       "date                                              2008-08-17 00:00:00\n",
       "match_api_id                                                   489042\n",
       "home_team_api_id                                                10260\n",
       "away_team_api_id                                                10261\n",
       "home_team_goal                                                      1\n",
       "away_team_goal                                                      1\n",
       "home_player_1                                                 30726.0\n",
       "home_player_2                                                 30362.0\n",
       "home_player_3                                                 30620.0\n",
       "home_player_4                                                 30865.0\n",
       "home_player_5                                                 32569.0\n",
       "home_player_6                                                 24148.0\n",
       "home_player_7                                                 34944.0\n",
       "home_player_8                                                 30373.0\n",
       "home_player_9                                                 24154.0\n",
       "home_player_10                                                24157.0\n",
       "home_player_11                                                30829.0\n",
       "away_player_1                                                 24224.0\n",
       "away_player_2                                                 25518.0\n",
       "away_player_3                                                 24228.0\n",
       "away_player_4                                                 30929.0\n",
       "away_player_5                                                 29581.0\n",
       "away_player_6                                                 38807.0\n",
       "away_player_7                                                 40565.0\n",
       "away_player_8                                                 30360.0\n",
       "away_player_9                                                 33852.0\n",
       "away_player_10                                                34574.0\n",
       "away_player_11                                                37799.0\n",
       "goal                <goal><value><comment>n</comment><stats><goals...\n",
       "shoton              <shoton><value><stats><blocked>1</blocked></st...\n",
       "shotoff             <shotoff><value><stats><shotoff>1</shotoff></s...\n",
       "foulcommit          <foulcommit><value><stats><foulscommitted>1</f...\n",
       "card                <card><value><comment>y</comment><stats><ycard...\n",
       "cross               <cross><value><stats><crosses>1</crosses></sta...\n",
       "corner              <corner><value><stats><corners>1</corners></st...\n",
       "possession          <possession><value><comment>56</comment><event...\n",
       "Name: 1728, dtype: object"
      ]
     },
     "execution_count": 5,
     "metadata": {},
     "output_type": "execute_result"
    }
   ],
   "source": [
    "sinNan.iloc[0]"
   ]
  },
  {
   "cell_type": "markdown",
   "metadata": {},
   "source": [
    "# Seleccionando Temporada"
   ]
  },
  {
   "cell_type": "code",
   "execution_count": 21,
   "metadata": {},
   "outputs": [
    {
     "data": {
      "text/plain": [
       "0    2008-08-17 00:00:00\n",
       "1    2008-08-16 00:00:00\n",
       "2    2008-08-16 00:00:00\n",
       "3    2008-08-17 00:00:00\n",
       "4    2008-08-16 00:00:00\n",
       "Name: date, dtype: object"
      ]
     },
     "execution_count": 21,
     "metadata": {},
     "output_type": "execute_result"
    }
   ],
   "source": [
    "partidos[\"date\"].head()"
   ]
  }
 ],
 "metadata": {
  "kernelspec": {
   "display_name": "env",
   "language": "python",
   "name": "python3"
  },
  "language_info": {
   "codemirror_mode": {
    "name": "ipython",
    "version": 3
   },
   "file_extension": ".py",
   "mimetype": "text/x-python",
   "name": "python",
   "nbconvert_exporter": "python",
   "pygments_lexer": "ipython3",
   "version": "3.12.0"
  }
 },
 "nbformat": 4,
 "nbformat_minor": 2
}
