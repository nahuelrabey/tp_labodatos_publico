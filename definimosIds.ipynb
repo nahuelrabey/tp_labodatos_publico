{
 "cells": [
  {
   "cell_type": "code",
   "execution_count": 2,
   "metadata": {},
   "outputs": [],
   "source": [
    "import pandas as pd"
   ]
  },
  {
   "cell_type": "code",
   "execution_count": 3,
   "metadata": {},
   "outputs": [],
   "source": [
    "equipos = pd.read_csv(\"./enunciado_tablas/enunciado_equipos.csv\")\n",
    "jugadores_atributos = pd.read_csv(\"./enunciado_tablas/enunciado_jugadores_atributos.csv\")\n",
    "jugadores = pd.read_csv(\"./enunciado_tablas/enunciado_jugadores.csv\")\n",
    "liga = pd.read_csv(\"./enunciado_tablas/enunciado_liga.csv\")\n",
    "paises = pd.read_csv(\"./enunciado_tablas/enunciado_paises.csv\")\n",
    "partidos = pd.read_csv(\"./enunciado_tablas/enunciado_partidos.csv\")"
   ]
  },
  {
   "cell_type": "code",
   "execution_count": 11,
   "metadata": {},
   "outputs": [
    {
     "name": "stdout",
     "output_type": "stream",
     "text": [
      "0\n"
     ]
    }
   ],
   "source": [
    "#¿Tiene NaN los Ids dados?\n",
    "\n",
    "nana = jugadores_atributos[\"player_api_id\"].isna().sum()\n",
    "print(nana)"
   ]
  },
  {
   "cell_type": "code",
   "execution_count": 10,
   "metadata": {},
   "outputs": [
    {
     "name": "stdout",
     "output_type": "stream",
     "text": [
      "0\n"
     ]
    }
   ],
   "source": [
    "nana = jugadores[\"player_api_id\"].isna().sum()\n",
    "print(nana)"
   ]
  },
  {
   "cell_type": "code",
   "execution_count": 19,
   "metadata": {},
   "outputs": [
    {
     "name": "stdout",
     "output_type": "stream",
     "text": [
      "0\n"
     ]
    }
   ],
   "source": [
    "print(equipos[\"team_api_id\"].isna().sum())"
   ]
  },
  {
   "cell_type": "code",
   "execution_count": 23,
   "metadata": {},
   "outputs": [
    {
     "name": "stdout",
     "output_type": "stream",
     "text": [
      "<class 'pandas.core.frame.DataFrame'>\n",
      "RangeIndex: 11 entries, 0 to 10\n",
      "Data columns (total 3 columns):\n",
      " #   Column        Non-Null Count  Dtype \n",
      "---  ------        --------------  ----- \n",
      " 0   country_code  11 non-null     object\n",
      " 1   name          11 non-null     object\n",
      " 2   country_id    11 non-null     int64 \n",
      "dtypes: int64(1), object(2)\n",
      "memory usage: 396.0+ bytes\n",
      "0\n"
     ]
    }
   ],
   "source": [
    "liga.info()\n",
    "print(liga[\"country_id\"].isna().sum())\n",
    "# print(paises[\"country_id\"].isna().sum())"
   ]
  },
  {
   "cell_type": "code",
   "execution_count": 24,
   "metadata": {},
   "outputs": [
    {
     "name": "stdout",
     "output_type": "stream",
     "text": [
      "<class 'pandas.core.frame.DataFrame'>\n",
      "RangeIndex: 11 entries, 0 to 10\n",
      "Data columns (total 3 columns):\n",
      " #   Column        Non-Null Count  Dtype \n",
      "---  ------        --------------  ----- \n",
      " 0   country_code  11 non-null     object\n",
      " 1   name          11 non-null     object\n",
      " 2   id            11 non-null     int64 \n",
      "dtypes: int64(1), object(2)\n",
      "memory usage: 396.0+ bytes\n"
     ]
    }
   ],
   "source": [
    "paises.info()"
   ]
  }
 ],
 "metadata": {
  "kernelspec": {
   "display_name": "env",
   "language": "python",
   "name": "python3"
  },
  "language_info": {
   "codemirror_mode": {
    "name": "ipython",
    "version": 3
   },
   "file_extension": ".py",
   "mimetype": "text/x-python",
   "name": "python",
   "nbconvert_exporter": "python",
   "pygments_lexer": "ipython3",
   "version": "3.12.0"
  }
 },
 "nbformat": 4,
 "nbformat_minor": 2
}
