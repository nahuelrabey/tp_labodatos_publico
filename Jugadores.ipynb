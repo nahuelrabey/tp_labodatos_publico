{
 "cells": [
  {
   "cell_type": "code",
   "execution_count": 125,
   "metadata": {},
   "outputs": [],
   "source": [
    "import pandas as pd\n",
    "import numpy as np\n",
    "import duckdb\n",
    "import matplotlib.pyplot as plt"
   ]
  },
  {
   "cell_type": "code",
   "execution_count": 96,
   "metadata": {},
   "outputs": [],
   "source": [
    "temporadas=[\"2011/2012\",\"2012/2013\",\"2014/2015\",\"2015/2016\"]\n",
    "carpeta = \"./tablas_finales/\"\n",
    "equipo = pd.read_csv(carpeta+\"equipo_españa.csv\")\n",
    "liga = pd.read_csv(carpeta+\"liga.csv\")\n",
    "partido = pd.read_csv(carpeta+\"partido_españa.csv\", parse_dates=[\"Fecha\"])\n",
    "plantel = pd.read_csv(carpeta+\"plantel.csv\")\n",
    "jugador = pd.read_csv(carpeta+\"jugador.csv\")\n",
    "atributos = pd.read_csv(carpeta+\"atributos.csv\", parse_dates=[\"Fecha\"])\n"
   ]
  },
  {
   "cell_type": "code",
   "execution_count": 97,
   "metadata": {},
   "outputs": [],
   "source": [
    "# Selecciono partidos y plantel\n",
    "partido_ok = partido[partido[\"Temporada\"].isin(temporadas)]\n",
    "plantel_ok = plantel[plantel[\"Temporada\"].isin(temporadas)]"
   ]
  },
  {
   "cell_type": "code",
   "execution_count": 98,
   "metadata": {},
   "outputs": [],
   "source": [
    "# Liga española\n",
    "liga = 21518"
   ]
  },
  {
   "cell_type": "markdown",
   "metadata": {},
   "source": [
    "¿cuales son los jugadores que más partido ganó su equipo?"
   ]
  },
  {
   "cell_type": "code",
   "execution_count": 99,
   "metadata": {},
   "outputs": [
    {
     "name": "stdout",
     "output_type": "stream",
     "text": [
      "<class 'pandas.core.frame.DataFrame'>\n",
      "RangeIndex: 2706 entries, 0 to 2705\n",
      "Data columns (total 9 columns):\n",
      " #   Column         Non-Null Count  Dtype         \n",
      "---  ------         --------------  -----         \n",
      " 0   Id_Partido     2706 non-null   int64         \n",
      " 1   Fecha          2706 non-null   datetime64[ns]\n",
      " 2   Temporada      2706 non-null   object        \n",
      " 3   Id_Local       2706 non-null   int64         \n",
      " 4   Id_Visitante   2706 non-null   int64         \n",
      " 5   Resultado      2706 non-null   object        \n",
      " 6   Id_Liga        2706 non-null   int64         \n",
      " 7   Gol_local      2706 non-null   int64         \n",
      " 8   Gol_visitante  2706 non-null   int64         \n",
      "dtypes: datetime64[ns](1), int64(6), object(2)\n",
      "memory usage: 190.4+ KB\n"
     ]
    }
   ],
   "source": [
    "partido.info()"
   ]
  },
  {
   "cell_type": "code",
   "execution_count": 100,
   "metadata": {},
   "outputs": [
    {
     "data": {
      "text/plain": [
       "True"
      ]
     },
     "execution_count": 100,
     "metadata": {},
     "output_type": "execute_result"
    }
   ],
   "source": [
    "partidos_ganados_local = duckdb.query(\"\"\"\n",
    "    SELECT Id_Local as Id_Equipo\n",
    "    FROM partido_ok\n",
    "    WHERE Resultado = 'Ganado'\n",
    "\"\"\").df()\n",
    "\n",
    "ganados_por_locales = duckdb.query(\"\"\"\n",
    "    SELECT Id_Equipo, COUNT(*) AS ganados_local\n",
    "    FROM partidos_ganados_local\n",
    "    GROUP BY Id_Equipo\n",
    "    ORDER BY ganados_local DESC;\n",
    "\"\"\").df()\n",
    "ganados_por_locales[\"Id_Equipo\"].is_unique"
   ]
  },
  {
   "cell_type": "code",
   "execution_count": 101,
   "metadata": {},
   "outputs": [
    {
     "name": "stdout",
     "output_type": "stream",
     "text": [
      "   Id_Equipo\n",
      "0       9906\n",
      "1       8634\n",
      "2       8305\n",
      "3       8661\n",
      "4       9869\n",
      "   Id_Equipo  ganados_visitante\n",
      "0       8634                 52\n",
      "1       8633                 50\n",
      "2       9906                 34\n",
      "3      10267                 24\n",
      "4       8315                 20\n"
     ]
    }
   ],
   "source": [
    "partidos_ganados_visitante = duckdb.query(\"\"\"\n",
    "    SELECT Id_Visitante as Id_Equipo\n",
    "    FROM partido_ok\n",
    "    WHERE Resultado = 'Perdido'\n",
    "\"\"\").df()\n",
    "\n",
    "ganados_por_visitantes = duckdb.query(\"\"\"\n",
    "    SELECT Id_Equipo, COUNT(*) AS ganados_visitante\n",
    "    FROM partidos_ganados_visitante\n",
    "    GROUP BY Id_Equipo\n",
    "    ORDER BY ganados_visitante DESC;\n",
    "\"\"\").df()\n",
    "\n",
    "print(partidos_ganados_visitante.head())\n",
    "print(ganados_por_visitantes.head())\n"
   ]
  },
  {
   "cell_type": "code",
   "execution_count": 102,
   "metadata": {},
   "outputs": [
    {
     "data": {
      "text/plain": [
       "True"
      ]
     },
     "execution_count": 102,
     "metadata": {},
     "output_type": "execute_result"
    }
   ],
   "source": [
    "ganados_por_visitantes[\"Id_Equipo\"].is_unique"
   ]
  },
  {
   "cell_type": "code",
   "execution_count": 103,
   "metadata": {},
   "outputs": [
    {
     "name": "stdout",
     "output_type": "stream",
     "text": [
      "True\n"
     ]
    }
   ],
   "source": [
    "## Chequeo que los índices sean iguales en locales y visitantes para hacer la suma\n",
    "## Para eso utilizo la doble inclusión.\n",
    "c1 = ganados_por_locales[\"Id_Equipo\"].isin(ganados_por_visitantes[\"Id_Equipo\"]).all()\n",
    "c2 = ganados_por_visitantes[\"Id_Equipo\"].isin(ganados_por_locales[\"Id_Equipo\"]).all()\n",
    "\n",
    "print(c1 & c2)"
   ]
  },
  {
   "cell_type": "code",
   "execution_count": 104,
   "metadata": {},
   "outputs": [
    {
     "data": {
      "text/html": [
       "<div>\n",
       "<style scoped>\n",
       "    .dataframe tbody tr th:only-of-type {\n",
       "        vertical-align: middle;\n",
       "    }\n",
       "\n",
       "    .dataframe tbody tr th {\n",
       "        vertical-align: top;\n",
       "    }\n",
       "\n",
       "    .dataframe thead th {\n",
       "        text-align: right;\n",
       "    }\n",
       "</style>\n",
       "<table border=\"1\" class=\"dataframe\">\n",
       "  <thead>\n",
       "    <tr style=\"text-align: right;\">\n",
       "      <th></th>\n",
       "      <th>Id_Equipo</th>\n",
       "      <th>ganados_totales</th>\n",
       "    </tr>\n",
       "  </thead>\n",
       "  <tbody>\n",
       "    <tr>\n",
       "      <th>0</th>\n",
       "      <td>8633</td>\n",
       "      <td>114</td>\n",
       "    </tr>\n",
       "    <tr>\n",
       "      <th>1</th>\n",
       "      <td>8634</td>\n",
       "      <td>114</td>\n",
       "    </tr>\n",
       "    <tr>\n",
       "      <th>2</th>\n",
       "      <td>9906</td>\n",
       "      <td>87</td>\n",
       "    </tr>\n",
       "    <tr>\n",
       "      <th>3</th>\n",
       "      <td>10267</td>\n",
       "      <td>69</td>\n",
       "    </tr>\n",
       "    <tr>\n",
       "      <th>4</th>\n",
       "      <td>8302</td>\n",
       "      <td>64</td>\n",
       "    </tr>\n",
       "    <tr>\n",
       "      <th>5</th>\n",
       "      <td>9864</td>\n",
       "      <td>58</td>\n",
       "    </tr>\n",
       "    <tr>\n",
       "      <th>6</th>\n",
       "      <td>8560</td>\n",
       "      <td>53</td>\n",
       "    </tr>\n",
       "    <tr>\n",
       "      <th>7</th>\n",
       "      <td>8315</td>\n",
       "      <td>53</td>\n",
       "    </tr>\n",
       "    <tr>\n",
       "      <th>8</th>\n",
       "      <td>8558</td>\n",
       "      <td>45</td>\n",
       "    </tr>\n",
       "    <tr>\n",
       "      <th>9</th>\n",
       "      <td>8581</td>\n",
       "      <td>44</td>\n",
       "    </tr>\n",
       "    <tr>\n",
       "      <th>10</th>\n",
       "      <td>8370</td>\n",
       "      <td>44</td>\n",
       "    </tr>\n",
       "    <tr>\n",
       "      <th>11</th>\n",
       "      <td>8305</td>\n",
       "      <td>42</td>\n",
       "    </tr>\n",
       "    <tr>\n",
       "      <th>12</th>\n",
       "      <td>10205</td>\n",
       "      <td>41</td>\n",
       "    </tr>\n",
       "    <tr>\n",
       "      <th>13</th>\n",
       "      <td>8603</td>\n",
       "      <td>40</td>\n",
       "    </tr>\n",
       "    <tr>\n",
       "      <th>14</th>\n",
       "      <td>7878</td>\n",
       "      <td>39</td>\n",
       "    </tr>\n",
       "    <tr>\n",
       "      <th>15</th>\n",
       "      <td>9910</td>\n",
       "      <td>38</td>\n",
       "    </tr>\n",
       "    <tr>\n",
       "      <th>16</th>\n",
       "      <td>8371</td>\n",
       "      <td>23</td>\n",
       "    </tr>\n",
       "    <tr>\n",
       "      <th>17</th>\n",
       "      <td>8661</td>\n",
       "      <td>23</td>\n",
       "    </tr>\n",
       "    <tr>\n",
       "      <th>18</th>\n",
       "      <td>9783</td>\n",
       "      <td>23</td>\n",
       "    </tr>\n",
       "    <tr>\n",
       "      <th>19</th>\n",
       "      <td>8394</td>\n",
       "      <td>19</td>\n",
       "    </tr>\n",
       "    <tr>\n",
       "      <th>20</th>\n",
       "      <td>9869</td>\n",
       "      <td>17</td>\n",
       "    </tr>\n",
       "    <tr>\n",
       "      <th>21</th>\n",
       "      <td>8372</td>\n",
       "      <td>17</td>\n",
       "    </tr>\n",
       "    <tr>\n",
       "      <th>22</th>\n",
       "      <td>8306</td>\n",
       "      <td>11</td>\n",
       "    </tr>\n",
       "    <tr>\n",
       "      <th>23</th>\n",
       "      <td>10268</td>\n",
       "      <td>11</td>\n",
       "    </tr>\n",
       "    <tr>\n",
       "      <th>24</th>\n",
       "      <td>10281</td>\n",
       "      <td>10</td>\n",
       "    </tr>\n",
       "    <tr>\n",
       "      <th>25</th>\n",
       "      <td>9865</td>\n",
       "      <td>8</td>\n",
       "    </tr>\n",
       "    <tr>\n",
       "      <th>26</th>\n",
       "      <td>8696</td>\n",
       "      <td>4</td>\n",
       "    </tr>\n",
       "    <tr>\n",
       "      <th>27</th>\n",
       "      <td>7869</td>\n",
       "      <td>2</td>\n",
       "    </tr>\n",
       "  </tbody>\n",
       "</table>\n",
       "</div>"
      ],
      "text/plain": [
       "    Id_Equipo  ganados_totales\n",
       "0        8633              114\n",
       "1        8634              114\n",
       "2        9906               87\n",
       "3       10267               69\n",
       "4        8302               64\n",
       "5        9864               58\n",
       "6        8560               53\n",
       "7        8315               53\n",
       "8        8558               45\n",
       "9        8581               44\n",
       "10       8370               44\n",
       "11       8305               42\n",
       "12      10205               41\n",
       "13       8603               40\n",
       "14       7878               39\n",
       "15       9910               38\n",
       "16       8371               23\n",
       "17       8661               23\n",
       "18       9783               23\n",
       "19       8394               19\n",
       "20       9869               17\n",
       "21       8372               17\n",
       "22       8306               11\n",
       "23      10268               11\n",
       "24      10281               10\n",
       "25       9865                8\n",
       "26       8696                4\n",
       "27       7869                2"
      ]
     },
     "execution_count": 104,
     "metadata": {},
     "output_type": "execute_result"
    }
   ],
   "source": [
    "victorias_x_equipo = duckdb.query(\"\"\"\n",
    "    SELECT T1.Id_Equipo as Id_Equipo, ganados_local+ganados_visitante as ganados_totales \n",
    "    FROM ganados_por_locales as T1 INNER JOIN ganados_por_visitantes as T2 \n",
    "    ON T1.Id_Equipo = T2.Id_Equipo\n",
    "    ORDER BY ganados_totales DESC;\n",
    "\"\"\").df()\n",
    "victorias_x_equipo"
   ]
  },
  {
   "cell_type": "code",
   "execution_count": 105,
   "metadata": {},
   "outputs": [
    {
     "data": {
      "text/plain": [
       "┌───────────┐\n",
       "│ Id_Equipo │\n",
       "│   int64   │\n",
       "├───────────┤\n",
       "│      8633 │\n",
       "│      8634 │\n",
       "└───────────┘"
      ]
     },
     "execution_count": 105,
     "metadata": {},
     "output_type": "execute_result"
    }
   ],
   "source": [
    "\n",
    "duckdb.query(\"\"\"\n",
    "    SELECT Id_Equipo\n",
    "    FROM victorias_x_equipo \n",
    "    WHERE ganados_totales = (SELECT MAX(ganados_totales) FROM victorias_x_equipo);\n",
    "\"\"\")\n",
    "# print(res)"
   ]
  },
  {
   "cell_type": "markdown",
   "metadata": {},
   "source": [
    "¿Cual es el jugador con menor variación de potencia a lo largo de los años?\n",
    "\n",
    "Analizo desde el 1° de Enero del 2011 al 31 de Diciembre del 2015"
   ]
  },
  {
   "cell_type": "markdown",
   "metadata": {},
   "source": [
    "¿Qué busco cómo variación?\n",
    "\n",
    "Por cada jugador obtengo el mínimo, y el máximo. Al máximo le resto el mínimo. Ahí tengo la variación a lo largo de los años 2011-2015"
   ]
  },
  {
   "cell_type": "markdown",
   "metadata": {},
   "source": [
    "descarto jugadores que no hayan estado en las 4 temporadas"
   ]
  },
  {
   "cell_type": "code",
   "execution_count": 106,
   "metadata": {},
   "outputs": [
    {
     "data": {
      "text/html": [
       "<div>\n",
       "<style scoped>\n",
       "    .dataframe tbody tr th:only-of-type {\n",
       "        vertical-align: middle;\n",
       "    }\n",
       "\n",
       "    .dataframe tbody tr th {\n",
       "        vertical-align: top;\n",
       "    }\n",
       "\n",
       "    .dataframe thead th {\n",
       "        text-align: right;\n",
       "    }\n",
       "</style>\n",
       "<table border=\"1\" class=\"dataframe\">\n",
       "  <thead>\n",
       "    <tr style=\"text-align: right;\">\n",
       "      <th></th>\n",
       "      <th>Id_Jugador</th>\n",
       "      <th>Id_Equipo</th>\n",
       "      <th>Temporada</th>\n",
       "    </tr>\n",
       "  </thead>\n",
       "  <tbody>\n",
       "    <tr>\n",
       "      <th>0</th>\n",
       "      <td>95597</td>\n",
       "      <td>4087</td>\n",
       "      <td>2011/2012</td>\n",
       "    </tr>\n",
       "    <tr>\n",
       "      <th>1</th>\n",
       "      <td>38805</td>\n",
       "      <td>4087</td>\n",
       "      <td>2011/2012</td>\n",
       "    </tr>\n",
       "    <tr>\n",
       "      <th>2</th>\n",
       "      <td>35560</td>\n",
       "      <td>4087</td>\n",
       "      <td>2011/2012</td>\n",
       "    </tr>\n",
       "    <tr>\n",
       "      <th>3</th>\n",
       "      <td>210691</td>\n",
       "      <td>4087</td>\n",
       "      <td>2011/2012</td>\n",
       "    </tr>\n",
       "    <tr>\n",
       "      <th>4</th>\n",
       "      <td>93343</td>\n",
       "      <td>4087</td>\n",
       "      <td>2011/2012</td>\n",
       "    </tr>\n",
       "    <tr>\n",
       "      <th>...</th>\n",
       "      <td>...</td>\n",
       "      <td>...</td>\n",
       "      <td>...</td>\n",
       "    </tr>\n",
       "    <tr>\n",
       "      <th>19570</th>\n",
       "      <td>415113</td>\n",
       "      <td>208931</td>\n",
       "      <td>2015/2016</td>\n",
       "    </tr>\n",
       "    <tr>\n",
       "      <th>19571</th>\n",
       "      <td>105535</td>\n",
       "      <td>208931</td>\n",
       "      <td>2015/2016</td>\n",
       "    </tr>\n",
       "    <tr>\n",
       "      <th>19572</th>\n",
       "      <td>128803</td>\n",
       "      <td>208931</td>\n",
       "      <td>2015/2016</td>\n",
       "    </tr>\n",
       "    <tr>\n",
       "      <th>19573</th>\n",
       "      <td>24123</td>\n",
       "      <td>208931</td>\n",
       "      <td>2015/2016</td>\n",
       "    </tr>\n",
       "    <tr>\n",
       "      <th>19574</th>\n",
       "      <td>187360</td>\n",
       "      <td>208931</td>\n",
       "      <td>2015/2016</td>\n",
       "    </tr>\n",
       "  </tbody>\n",
       "</table>\n",
       "<p>10847 rows × 3 columns</p>\n",
       "</div>"
      ],
      "text/plain": [
       "       Id_Jugador  Id_Equipo  Temporada\n",
       "0           95597       4087  2011/2012\n",
       "1           38805       4087  2011/2012\n",
       "2           35560       4087  2011/2012\n",
       "3          210691       4087  2011/2012\n",
       "4           93343       4087  2011/2012\n",
       "...           ...        ...        ...\n",
       "19570      415113     208931  2015/2016\n",
       "19571      105535     208931  2015/2016\n",
       "19572      128803     208931  2015/2016\n",
       "19573       24123     208931  2015/2016\n",
       "19574      187360     208931  2015/2016\n",
       "\n",
       "[10847 rows x 3 columns]"
      ]
     },
     "execution_count": 106,
     "metadata": {},
     "output_type": "execute_result"
    }
   ],
   "source": [
    "plantel_ok"
   ]
  },
  {
   "cell_type": "code",
   "execution_count": 107,
   "metadata": {},
   "outputs": [
    {
     "name": "stdout",
     "output_type": "stream",
     "text": [
      "<class 'pandas.core.frame.DataFrame'>\n",
      "Index: 10847 entries, 0 to 19574\n",
      "Data columns (total 3 columns):\n",
      " #   Column      Non-Null Count  Dtype \n",
      "---  ------      --------------  ----- \n",
      " 0   Id_Jugador  10847 non-null  int64 \n",
      " 1   Id_Equipo   10847 non-null  int64 \n",
      " 2   Temporada   10847 non-null  object\n",
      "dtypes: int64(2), object(1)\n",
      "memory usage: 339.0+ KB\n"
     ]
    },
    {
     "data": {
      "text/plain": [
       "┌────────────┬───────────┬─────────────────────┐\n",
       "│ Id_Jugador │ Potencial │        Fecha        │\n",
       "│   int64    │  double   │    timestamp_ns     │\n",
       "├────────────┼───────────┼─────────────────────┤\n",
       "│      27671 │      77.0 │ 2014-11-28 00:00:00 │\n",
       "│      27671 │      77.0 │ 2014-09-18 00:00:00 │\n",
       "│      27671 │      80.0 │ 2014-04-25 00:00:00 │\n",
       "│      27671 │      82.0 │ 2014-01-17 00:00:00 │\n",
       "│      27671 │      83.0 │ 2013-12-20 00:00:00 │\n",
       "│      27671 │      83.0 │ 2013-11-01 00:00:00 │\n",
       "│      27671 │      83.0 │ 2013-10-18 00:00:00 │\n",
       "│      27671 │      83.0 │ 2013-10-11 00:00:00 │\n",
       "│      27671 │      83.0 │ 2013-09-27 00:00:00 │\n",
       "│      27671 │      81.0 │ 2013-09-20 00:00:00 │\n",
       "│        ·   │        ·  │          ·          │\n",
       "│        ·   │        ·  │          ·          │\n",
       "│        ·   │        ·  │          ·          │\n",
       "│      35989 │      84.0 │ 2009-02-22 00:00:00 │\n",
       "│      35989 │      84.0 │ 2008-08-30 00:00:00 │\n",
       "│      35989 │      84.0 │ 2007-08-30 00:00:00 │\n",
       "│      35989 │      84.0 │ 2007-02-22 00:00:00 │\n",
       "│     182925 │      80.0 │ 2016-04-07 00:00:00 │\n",
       "│     182925 │      81.0 │ 2016-03-31 00:00:00 │\n",
       "│     182925 │      81.0 │ 2016-03-24 00:00:00 │\n",
       "│     182925 │      82.0 │ 2015-12-24 00:00:00 │\n",
       "│     182925 │      82.0 │ 2015-11-06 00:00:00 │\n",
       "│     182925 │      82.0 │ 2015-09-21 00:00:00 │\n",
       "├────────────┴───────────┴─────────────────────┤\n",
       "│ ? rows (>9999 rows, 20 shown)      3 columns │\n",
       "└──────────────────────────────────────────────┘"
      ]
     },
     "execution_count": 107,
     "metadata": {},
     "output_type": "execute_result"
    }
   ],
   "source": [
    "plantel_ok.info()\n",
    "jugadores_todas_temporadas = duckdb.query(\"\"\"\n",
    "    SELECT Id_Jugador\n",
    "    FROM plantel_ok\n",
    "    WHERE Temporada IN ('2011/2012', '2012/2013', '2013/2014', '2014/2015')\n",
    "    GROUP BY Id_Jugador\n",
    "    HAVING COUNT(DISTINCT Temporada) = 3;             \n",
    "\"\"\")\n",
    "\n",
    "potencial_ok = duckdb.query(\"\"\"\n",
    "    SELECT T1.Id_Jugador, Potencial, Fecha\n",
    "    FROM jugadores_todas_temporadas as T1 LEFT JOIN atributos as T2\n",
    "    ON T1.Id_Jugador = T2.Id_Jugador\n",
    "\"\"\")\n",
    "\n",
    "potencial_ok"
   ]
  },
  {
   "cell_type": "markdown",
   "metadata": {},
   "source": [
    "Observación, hay jugadores "
   ]
  },
  {
   "cell_type": "code",
   "execution_count": 109,
   "metadata": {},
   "outputs": [
    {
     "name": "stdout",
     "output_type": "stream",
     "text": [
      "┌────────────┬─────────────────────┐\n",
      "│ Id_Jugador │ Variacion_Potencial │\n",
      "│   int64    │       double        │\n",
      "├────────────┼─────────────────────┤\n",
      "│      93457 │  10.998663020353616 │\n",
      "└────────────┴─────────────────────┘\n",
      "\n",
      "┌────────────┬─────────────────────┐\n",
      "│ Id_Jugador │ Variacion_Potencial │\n",
      "│   int64    │       double        │\n",
      "├────────────┼─────────────────────┤\n",
      "│     192316 │  0.5737304826019519 │\n",
      "└────────────┴─────────────────────┘\n",
      "\n"
     ]
    }
   ],
   "source": [
    "res_raw = duckdb.query(\"\"\"\n",
    "    SELECT Id_Jugador, STDDEV(Potencial) AS Variacion_Potencial \n",
    "    FROM potencial_ok\n",
    "    GROUP BY Id_Jugador\n",
    "    ORDER BY Variacion_Potencial\n",
    "    DESC;\n",
    "\"\"\" ).df()\n",
    "Jugador_Variacion_Potencial = duckdb.query(\"\"\"\n",
    "    SELECT * FROM res_raw WHERE Variacion_Potencial IS NOT NULL\n",
    "\"\"\").df()\n",
    "\n",
    "Jugador_Mayor_Variacion = duckdb.query(\"\"\"\n",
    "    SELECT * FROM Jugador_Variacion_Potencial\n",
    "    WHERE Variacion_Potencial = (SELECT MAX(Variacion_Potencial) FROM Jugador_Variacion_Potencial)\n",
    "\"\"\")\n",
    "\n",
    "Jugador_Menor_Variacion = duckdb.query(\"\"\"\n",
    "    SELECT * FROM Jugador_Variacion_Potencial\n",
    "    WHERE Variacion_Potencial = (SELECT MIN(Variacion_Potencial) FROM Jugador_Variacion_Potencial)\n",
    "\"\"\")\n",
    "print(Jugador_Mayor_Variacion)\n",
    "print(Jugador_Menor_Variacion)"
   ]
  },
  {
   "cell_type": "code",
   "execution_count": 110,
   "metadata": {},
   "outputs": [
    {
     "name": "stdout",
     "output_type": "stream",
     "text": [
      "┌────────────────┐\n",
      "│     Nombre     │\n",
      "│    varchar     │\n",
      "├────────────────┤\n",
      "│ Mattias Autret │\n",
      "└────────────────┘\n",
      "\n",
      "┌─────────────┐\n",
      "│   Nombre    │\n",
      "│   varchar   │\n",
      "├─────────────┤\n",
      "│ Lamine Kone │\n",
      "└─────────────┘\n",
      "\n"
     ]
    }
   ],
   "source": [
    "Nombre_Menor_Variacion = duckdb.query(\"\"\"\n",
    "    SELECT Nombre FROM Jugador_Menor_Variacion as T1 INNER JOIN jugador as T2 on T1.Id_Jugador = T2.Id_Jugador\n",
    "\"\"\")\n",
    "Nombre_Mayor_Variacion = duckdb.query(\"\"\"\n",
    "    SELECT Nombre FROM Jugador_Mayor_Variacion as T1 INNER JOIN jugador as T2 on T1.Id_Jugador = T2.Id_Jugador\n",
    "\"\"\")\n",
    "print(Nombre_Menor_Variacion)\n",
    "print(Nombre_Mayor_Variacion)"
   ]
  },
  {
   "cell_type": "markdown",
   "metadata": {},
   "source": [
    "Graficar el promedio de gol de los equipos a lo largo de los años que elijan"
   ]
  },
  {
   "cell_type": "code",
   "execution_count": 116,
   "metadata": {},
   "outputs": [
    {
     "data": {
      "text/plain": [
       "┌───────────┬────────┬───────────┐\n",
       "│ Id_Equipo │  Gol   │ Temporada │\n",
       "│   int64   │ int128 │  varchar  │\n",
       "├───────────┼────────┼───────────┤\n",
       "│      8603 │     47 │ 2011/2012 │\n",
       "│      8696 │     28 │ 2011/2012 │\n",
       "│      8302 │     58 │ 2012/2013 │\n",
       "│      9910 │     49 │ 2013/2014 │\n",
       "│      9864 │     35 │ 2013/2014 │\n",
       "│      7878 │     29 │ 2014/2015 │\n",
       "│      8305 │     31 │ 2014/2015 │\n",
       "│      8558 │     46 │ 2011/2012 │\n",
       "│      8634 │    112 │ 2012/2013 │\n",
       "│      8581 │     39 │ 2012/2013 │\n",
       "│        ·  │      · │     ·     │\n",
       "│        ·  │      · │     ·     │\n",
       "│        ·  │      · │     ·     │\n",
       "│      9910 │     44 │ 2014/2015 │\n",
       "│      7869 │     21 │ 2014/2015 │\n",
       "│      9864 │     54 │ 2011/2012 │\n",
       "│      8394 │     35 │ 2011/2012 │\n",
       "│      8371 │     33 │ 2012/2013 │\n",
       "│      8603 │     36 │ 2013/2014 │\n",
       "│      8581 │     34 │ 2014/2015 │\n",
       "│      8634 │    104 │ 2014/2015 │\n",
       "│      8560 │     40 │ 2014/2015 │\n",
       "│      9906 │     64 │ 2014/2015 │\n",
       "├───────────┴────────┴───────────┤\n",
       "│ 80 rows (20 shown)   3 columns │\n",
       "└────────────────────────────────┘"
      ]
     },
     "execution_count": 116,
     "metadata": {},
     "output_type": "execute_result"
    }
   ],
   "source": [
    "partido_ok = duckdb.query(\"\"\"\n",
    "    SELECT * \n",
    "    FROM partido\n",
    "    WHERE Temporada IN ('2011/2012', '2012/2013', '2013/2014', '2014/2015')\n",
    "\"\"\")\n",
    "# print(partido_ok)\n",
    "\n",
    "goles_local = duckdb.query(\"\"\"\n",
    "    SELECT Id_Local as Id_Equipo, Gol_local, Fecha, Temporada FROM partido_ok\n",
    "\"\"\")\n",
    "\n",
    "local_x_temporada = duckdb.query(\"\"\"\n",
    "    SELECT Id_Equipo, SUM(Gol_local) as Gol_local, temporada\n",
    "    FROM goles_local\n",
    "    GROUP BY Id_Equipo, Temporada\n",
    "\"\"\")\n",
    "\n",
    "goles_visitante = duckdb.query(\"\"\"\n",
    "    SELECT Id_Visitante as Id_Equipo, Gol_visitante, Id_Partido, Fecha, Temporada FROM partido_ok\n",
    "\"\"\")\n",
    "\n",
    "visitante_x_temporada = duckdb.query(\"\"\"\n",
    "    SELECT Id_Equipo, SUM(Gol_visitante) as Gol_visitante, temporada\n",
    "    FROM goles_visitante \n",
    "    GROUP BY Id_Equipo, Temporada\n",
    "\"\"\")\n",
    "\n",
    "goles_x_temporada = duckdb.query(\"\"\"\n",
    "    SELECT T1.Id_Equipo, (T2.Gol_visitante + T1.Gol_local) as Gol, T1.Temporada\n",
    "    FROM local_x_temporada as T1 INNER JOIN visitante_x_temporada as T2\n",
    "    ON T1.Id_Equipo = T2.Id_Equipo AND T1.Temporada = T2.Temporada\n",
    "\"\"\")\n",
    "goles_x_temporada"
   ]
  },
  {
   "cell_type": "markdown",
   "metadata": {},
   "source": [
    "Graficar el número de goles convertidos por cada equipo en función de la suma de todos sus atributos.\n"
   ]
  },
  {
   "cell_type": "code",
   "execution_count": 127,
   "metadata": {},
   "outputs": [
    {
     "data": {
      "image/png": "[encoded data removed]",
      "text/plain": [
       "<Figure size 640x480 with 1 Axes>"
      ]
     },
     "metadata": {},
     "output_type": "display_data"
    }
   ],
   "source": [
    "promedio = duckdb.query(\"\"\"\n",
    "    SELECT Id_Equipo, MEAN(Gol) as Promedio\n",
    "    FROM goles_x_temporada\n",
    "    GROUP BY Id_Equipo\n",
    "\"\"\")\n",
    "\n",
    "nombres = duckdb.query(\"\"\"\n",
    "    SELECT Nombre, Promedio\n",
    "    FROM promedio as T1 INNER JOIN equipo as T2 ON T1.Id_Equipo = T2.Id_Equipo\n",
    "    ORDER BY Promedio DESC\n",
    "\"\"\").df()\n",
    "\n",
    "# x = nombres[\"Nombre\"]\n",
    "# y = nombres[\"Promedio\"]\n",
    "\n",
    "fig, ax = plt.subplots()\n",
    "       \n",
    "nombres.plot(x='Nombre', \n",
    "                    y=['Promedio'], \n",
    "                    kind='barh',\n",
    "                    label=['Promedio'],   # Agrega etiquetas a la serie\n",
    "                    ax = ax)\n",
    "ax.set_title('Promedio de goles por equipo')\n",
    "ax.set_xlabel('Goles')\n",
    "ax.set_ylabel('Equipo')\n",
    "\n",
    "fig.savefig(carpeta+'goles_convertidos.pdf', bbox_inches='tight', pad_inches=0.1)"
   ]
  }
 ],
 "metadata": {
  "kernelspec": {
   "display_name": "env",
   "language": "python",
   "name": "python3"
  },
  "language_info": {
   "codemirror_mode": {
    "name": "ipython",
    "version": 3
   },
   "file_extension": ".py",
   "mimetype": "text/x-python",
   "name": "python",
   "nbconvert_exporter": "python",
   "pygments_lexer": "ipython3",
   "version": "3.12.0"
  }
 },
 "nbformat": 4,
 "nbformat_minor": 2
}
